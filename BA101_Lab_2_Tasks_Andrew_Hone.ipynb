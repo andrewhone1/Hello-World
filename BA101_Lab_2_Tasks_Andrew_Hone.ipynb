{
  "cells": [
    {
      "cell_type": "markdown",
      "metadata": {
        "id": "view-in-github",
        "colab_type": "text"
      },
      "source": [
        "<a href=\"https://colab.research.google.com/github/andrewhone1/Hello-World/blob/main/BA101_Lab_2_Tasks_Andrew_Hone.ipynb\" target=\"_parent\"><img src=\"https://colab.research.google.com/assets/colab-badge.svg\" alt=\"Open In Colab\"/></a>"
      ]
    },
    {
      "cell_type": "markdown",
      "id": "0e05054c",
      "metadata": {
        "id": "0e05054c"
      },
      "source": [
        "# Task 1"
      ]
    },
    {
      "cell_type": "code",
      "execution_count": null,
      "id": "1e894c70",
      "metadata": {
        "id": "1e894c70"
      },
      "outputs": [],
      "source": [
        "import numpy as np"
      ]
    },
    {
      "cell_type": "code",
      "execution_count": null,
      "id": "af308205",
      "metadata": {
        "id": "af308205",
        "outputId": "3eccc14a-c1d2-4299-f693-69d7dacb49dc"
      },
      "outputs": [
        {
          "name": "stdout",
          "output_type": "stream",
          "text": [
            "[0 0 0 0 0 0 0 0 0 0]\n"
          ]
        }
      ],
      "source": [
        "data = [0, 0, 0, 0, 0, 0, 0, 0, 0, 0]\n",
        "\n",
        "arr1 = np.array(data)\n",
        "\n",
        "print(arr1)"
      ]
    },
    {
      "cell_type": "code",
      "execution_count": null,
      "id": "900fd34f",
      "metadata": {
        "id": "900fd34f",
        "outputId": "def060b1-cd3e-469b-9183-457f6f0137f3"
      },
      "outputs": [
        {
          "name": "stdout",
          "output_type": "stream",
          "text": [
            "[10 11 12 13 14 15 16 17 18 19 20 21 22 23 24 25 26 27 28 29 30 31 32 33\n",
            " 34 35 36 37 38 39 40 41 42 43 44 45 46 47 48 49]\n"
          ]
        }
      ],
      "source": [
        "arr2 = np.arange(10, 50)\n",
        "print(arr2)"
      ]
    },
    {
      "cell_type": "code",
      "execution_count": null,
      "id": "7eed12c3",
      "metadata": {
        "id": "7eed12c3",
        "outputId": "ac0d2363-0962-41a9-a610-01fe1c25d7d2"
      },
      "outputs": [
        {
          "name": "stdout",
          "output_type": "stream",
          "text": [
            "[[[0.74181203 0.43467563 0.56479261]\n",
            "  [0.68527487 0.05349238 0.24187847]\n",
            "  [0.12538688 0.47183287 0.71143084]]\n",
            "\n",
            " [[0.35749755 0.51446781 0.35776226]\n",
            "  [0.24328628 0.51182894 0.42208624]\n",
            "  [0.4228863  0.35673892 0.54942308]]\n",
            "\n",
            " [[0.64500128 0.60964062 0.14556678]\n",
            "  [0.00860499 0.21311787 0.69836114]\n",
            "  [0.4159754  0.74015013 0.80066054]]]\n"
          ]
        }
      ],
      "source": [
        "arr3 = np.random.random((3, 3, 3))\n",
        "print(arr3)"
      ]
    },
    {
      "cell_type": "markdown",
      "id": "05f7b516",
      "metadata": {
        "id": "05f7b516"
      },
      "source": [
        "# Task 2"
      ]
    },
    {
      "cell_type": "code",
      "execution_count": null,
      "id": "9439cf59",
      "metadata": {
        "id": "9439cf59",
        "outputId": "14be6a74-258f-4eda-d01d-afa0aa6bde5b"
      },
      "outputs": [
        {
          "name": "stdout",
          "output_type": "stream",
          "text": [
            "2.0\n"
          ]
        },
        {
          "data": {
            "text/plain": [
              "dtype('float64')"
            ]
          },
          "execution_count": 10,
          "metadata": {},
          "output_type": "execute_result"
        }
      ],
      "source": [
        "result = np.array(10) / np.array(5)\n",
        "print(result)\n",
        "result.dtype"
      ]
    },
    {
      "cell_type": "code",
      "execution_count": null,
      "id": "613183c1",
      "metadata": {
        "id": "613183c1",
        "outputId": "d0db1239-743e-423a-97d6-a391680da879"
      },
      "outputs": [
        {
          "name": "stdout",
          "output_type": "stream",
          "text": [
            "3\n"
          ]
        },
        {
          "data": {
            "text/plain": [
              "dtype('int32')"
            ]
          },
          "execution_count": 12,
          "metadata": {},
          "output_type": "execute_result"
        }
      ],
      "source": [
        "result = np.array(10) // np.array(3)\n",
        "print(result)\n",
        "result.dtype"
      ]
    },
    {
      "cell_type": "code",
      "execution_count": null,
      "id": "cef612f9",
      "metadata": {
        "id": "cef612f9",
        "outputId": "753c611d-a835-48d4-ced1-0bc7e3dd15ee"
      },
      "outputs": [
        {
          "name": "stdout",
          "output_type": "stream",
          "text": [
            "5.0\n"
          ]
        },
        {
          "data": {
            "text/plain": [
              "dtype('float64')"
            ]
          },
          "execution_count": 14,
          "metadata": {},
          "output_type": "execute_result"
        }
      ],
      "source": [
        "result = np.array(\"5\").astype(int).astype(float)\n",
        "print(result)\n",
        "result.dtype"
      ]
    },
    {
      "cell_type": "markdown",
      "id": "10935179",
      "metadata": {
        "id": "10935179"
      },
      "source": [
        "# Task 3"
      ]
    },
    {
      "cell_type": "code",
      "execution_count": null,
      "id": "e29772f4",
      "metadata": {
        "id": "e29772f4"
      },
      "outputs": [],
      "source": [
        "a = np.array([[1,2,3],\n",
        "              [4,5,6]])\n",
        "\n",
        "b = np.array([[10,11,12],\n",
        "              [13,14,15]])"
      ]
    },
    {
      "cell_type": "code",
      "execution_count": null,
      "id": "0b664811",
      "metadata": {
        "id": "0b664811",
        "outputId": "4990fa79-b061-494a-dfa6-cb30ae51a0a5"
      },
      "outputs": [
        {
          "data": {
            "text/plain": [
              "array([[11, 13, 15],\n",
              "       [17, 19, 21]])"
            ]
          },
          "execution_count": 16,
          "metadata": {},
          "output_type": "execute_result"
        }
      ],
      "source": [
        "a + b"
      ]
    },
    {
      "cell_type": "code",
      "execution_count": null,
      "id": "986da32b",
      "metadata": {
        "id": "986da32b",
        "outputId": "74f1f856-c206-4fa6-b6f0-2446293f63c5"
      },
      "outputs": [
        {
          "data": {
            "text/plain": [
              "array([[21, 24, 27],\n",
              "       [30, 33, 36]])"
            ]
          },
          "execution_count": 17,
          "metadata": {},
          "output_type": "execute_result"
        }
      ],
      "source": [
        "a + 2*b"
      ]
    },
    {
      "cell_type": "code",
      "execution_count": null,
      "id": "dfaf7fe6",
      "metadata": {
        "scrolled": true,
        "id": "dfaf7fe6",
        "outputId": "8ca6052e-c175-4808-fa80-9d67702a48a2"
      },
      "outputs": [
        {
          "data": {
            "text/plain": [
              "array([[False, False, False],\n",
              "       [False, False, False]])"
            ]
          },
          "execution_count": 18,
          "metadata": {},
          "output_type": "execute_result"
        }
      ],
      "source": [
        "a > b"
      ]
    },
    {
      "cell_type": "markdown",
      "id": "a8f4b0f0",
      "metadata": {
        "id": "a8f4b0f0"
      },
      "source": [
        "# Task 4"
      ]
    },
    {
      "cell_type": "code",
      "execution_count": null,
      "id": "7be657b4",
      "metadata": {
        "id": "7be657b4",
        "outputId": "e4df4fa8-56dd-447f-ec58-c7885d23aafc"
      },
      "outputs": [
        {
          "name": "stdout",
          "output_type": "stream",
          "text": [
            "[[7 8 9]]\n",
            "(1, 3)\n"
          ]
        }
      ],
      "source": [
        "import numpy as np\n",
        "\n",
        "arr = np.array([[1,2,3], [4,5,6], [7,8,9]])\n",
        "\n",
        "arr2 = arr[2:3] [:1]\n",
        "\n",
        "print(arr2)\n",
        "print(np.shape(arr2))"
      ]
    },
    {
      "cell_type": "code",
      "execution_count": null,
      "id": "40cf3f39",
      "metadata": {
        "id": "40cf3f39",
        "outputId": "2465d7d7-60ea-4408-ab3a-198c33dc0fab"
      },
      "outputs": [
        {
          "name": "stdout",
          "output_type": "stream",
          "text": [
            "[1 2 3]\n",
            "(3,)\n"
          ]
        }
      ],
      "source": [
        "arr3 = arr[0][:]\n",
        "\n",
        "print(arr3)\n",
        "print(np.shape(arr3))"
      ]
    },
    {
      "cell_type": "code",
      "execution_count": null,
      "id": "45949769",
      "metadata": {
        "id": "45949769",
        "outputId": "415b4fb6-e237-4061-d08d-69450f8a9b7b"
      },
      "outputs": [
        {
          "name": "stdout",
          "output_type": "stream",
          "text": [
            "[3]\n",
            "(1,)\n"
          ]
        }
      ],
      "source": [
        "arr4 = arr[:1, 2]\n",
        "\n",
        "print(arr4)\n",
        "print(np.shape(arr4))"
      ]
    },
    {
      "cell_type": "markdown",
      "id": "508c38fb",
      "metadata": {
        "id": "508c38fb"
      },
      "source": [
        "# Task 5"
      ]
    },
    {
      "cell_type": "code",
      "execution_count": null,
      "id": "21b9e1c8",
      "metadata": {
        "scrolled": true,
        "id": "21b9e1c8",
        "outputId": "ad3a6be4-3fda-496c-a1ad-d100b60efee6"
      },
      "outputs": [
        {
          "name": "stdout",
          "output_type": "stream",
          "text": [
            "[1.         1.41421356 1.73205081 2.         2.23606798 2.44948974\n",
            " 2.64575131 2.82842712 3.         3.16227766]\n",
            "[3.31662479 3.46410162 3.60555128 3.74165739 3.87298335 4.\n",
            " 4.12310563 4.24264069]\n",
            "[2.71828183e+00 7.38905610e+00 2.00855369e+01 5.45981500e+01\n",
            " 1.48413159e+02 4.03428793e+02 1.09663316e+03 2.98095799e+03\n",
            " 8.10308393e+03 2.20264658e+04]\n",
            "[5.98741417e+04 1.62754791e+05 4.42413392e+05 1.20260428e+06\n",
            " 3.26901737e+06 8.88611052e+06 2.41549528e+07 6.56599691e+07]\n",
            "[ 1.  2.  3.  4.  5.  6.  7.  8.  9. 10.]\n",
            "[11. 12. 13. 14. 15. 16. 17. 18.]\n",
            "[False False False False False False False False False False]\n",
            "[False False False False False False False False]\n"
          ]
        }
      ],
      "source": [
        "a = np.array([1, 2, 3, 4, 5, 6, 7, 8, 9, 10])\n",
        "b = np.array([11, 12, 13, 14, 15, 16, 17, 18])\n",
        "#Unary functions\n",
        "print(np.sqrt(a))\n",
        "print(np.sqrt(b))\n",
        "\n",
        "print(np.exp(a))\n",
        "print(np.exp(b))\n",
        "\n",
        "print(np.ceil(a))\n",
        "print(np.floor(b))\n",
        "\n",
        "print(np.isnan(a))\n",
        "print(np.isnan(b))"
      ]
    },
    {
      "cell_type": "code",
      "execution_count": null,
      "id": "2c3df881",
      "metadata": {
        "id": "2c3df881",
        "outputId": "f2585063-e585-4f99-8cbc-622a5ff47276"
      },
      "outputs": [
        {
          "data": {
            "text/plain": [
              "array([12, 14, 16, 18, 20, 22, 24, 26, 28, 30])"
            ]
          },
          "execution_count": 11,
          "metadata": {},
          "output_type": "execute_result"
        }
      ],
      "source": [
        "#Binary Ufunc\n",
        "a = np.array([1, 2, 3, 4, 5, 6, 7, 8, 9, 10])\n",
        "b = np.array([11, 12, 13, 14, 15, 16, 17, 18, 19,20])\n",
        "\n",
        "np.add(a, b)\n"
      ]
    },
    {
      "cell_type": "code",
      "execution_count": null,
      "id": "883180e7",
      "metadata": {
        "id": "883180e7",
        "outputId": "628f0df9-bad8-42ff-c534-69289cfbfb14"
      },
      "outputs": [
        {
          "data": {
            "text/plain": [
              "array([ 11,  24,  39,  56,  75,  96, 119, 144, 171, 200])"
            ]
          },
          "execution_count": 12,
          "metadata": {},
          "output_type": "execute_result"
        }
      ],
      "source": [
        "np.multiply(a, b)"
      ]
    },
    {
      "cell_type": "code",
      "execution_count": null,
      "id": "8de9db72",
      "metadata": {
        "id": "8de9db72",
        "outputId": "9f253536-b2d3-4fbd-f899-94581d05d289"
      },
      "outputs": [
        {
          "data": {
            "text/plain": [
              "array([11, 12, 13, 14, 15, 16, 17, 18, 19, 20])"
            ]
          },
          "execution_count": 13,
          "metadata": {},
          "output_type": "execute_result"
        }
      ],
      "source": [
        "np.maximum(a, b)"
      ]
    },
    {
      "cell_type": "code",
      "execution_count": null,
      "id": "4714b96d",
      "metadata": {
        "id": "4714b96d",
        "outputId": "a813adb7-e232-4f81-c559-35cdb12a421b"
      },
      "outputs": [
        {
          "data": {
            "text/plain": [
              "array([ 1,  2,  3,  4,  5,  6,  7,  8,  9, 10])"
            ]
          },
          "execution_count": 14,
          "metadata": {},
          "output_type": "execute_result"
        }
      ],
      "source": [
        "np.minimum(a, b)"
      ]
    },
    {
      "cell_type": "markdown",
      "id": "4bb5448c",
      "metadata": {
        "id": "4bb5448c"
      },
      "source": [
        "# Task 6"
      ]
    },
    {
      "cell_type": "code",
      "execution_count": null,
      "id": "5431e5d4",
      "metadata": {
        "id": "5431e5d4"
      },
      "outputs": [],
      "source": [
        "import pandas as pd"
      ]
    },
    {
      "cell_type": "code",
      "execution_count": null,
      "id": "0f455175",
      "metadata": {
        "id": "0f455175",
        "outputId": "82185970-e497-4a64-b4fd-dadb81d48808"
      },
      "outputs": [
        {
          "name": "stdout",
          "output_type": "stream",
          "text": [
            "0     3\n",
            "1     7\n",
            "2    11\n",
            "3    15\n",
            "4    19\n",
            "dtype: int64\n"
          ]
        }
      ],
      "source": [
        "x = pd.Series([2, 4, 6, 8, 10])\n",
        "y = pd.Series([1, 3, 5, 7, 9])\n",
        "\n",
        "print(x.add(y))\n"
      ]
    },
    {
      "cell_type": "code",
      "execution_count": null,
      "id": "dcd1c9d4",
      "metadata": {
        "id": "dcd1c9d4",
        "outputId": "09c7515c-14db-4671-a280-17cec625bb9e"
      },
      "outputs": [
        {
          "name": "stdout",
          "output_type": "stream",
          "text": [
            "0    1\n",
            "1    1\n",
            "2    1\n",
            "3    1\n",
            "4    1\n",
            "dtype: int64\n"
          ]
        }
      ],
      "source": [
        "print(x.subtract(y))"
      ]
    },
    {
      "cell_type": "code",
      "execution_count": null,
      "id": "1295802e",
      "metadata": {
        "id": "1295802e",
        "outputId": "fed1b69e-5c55-4437-93c3-076bc254f3eb"
      },
      "outputs": [
        {
          "name": "stdout",
          "output_type": "stream",
          "text": [
            "0     2\n",
            "1    12\n",
            "2    30\n",
            "3    56\n",
            "4    90\n",
            "dtype: int64\n"
          ]
        }
      ],
      "source": [
        "print(x.multiply(y))"
      ]
    },
    {
      "cell_type": "code",
      "execution_count": null,
      "id": "12f164f8",
      "metadata": {
        "id": "12f164f8",
        "outputId": "12abf02e-b29a-4a8e-e4fd-77fd2c089037"
      },
      "outputs": [
        {
          "name": "stdout",
          "output_type": "stream",
          "text": [
            "0    2.000000\n",
            "1    1.333333\n",
            "2    1.200000\n",
            "3    1.142857\n",
            "4    1.111111\n",
            "dtype: float64\n"
          ]
        }
      ],
      "source": [
        "print(x.divide(y))"
      ]
    },
    {
      "cell_type": "markdown",
      "id": "663bb1ea",
      "metadata": {
        "id": "663bb1ea"
      },
      "source": [
        "# Task 7"
      ]
    }
  ],
  "metadata": {
    "kernelspec": {
      "display_name": "Python 3 (ipykernel)",
      "language": "python",
      "name": "python3"
    },
    "language_info": {
      "codemirror_mode": {
        "name": "ipython",
        "version": 3
      },
      "file_extension": ".py",
      "mimetype": "text/x-python",
      "name": "python",
      "nbconvert_exporter": "python",
      "pygments_lexer": "ipython3",
      "version": "3.9.12"
    },
    "colab": {
      "provenance": [],
      "include_colab_link": true
    }
  },
  "nbformat": 4,
  "nbformat_minor": 5
}